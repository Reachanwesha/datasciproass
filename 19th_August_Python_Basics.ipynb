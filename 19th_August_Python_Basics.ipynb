{
 "cells": [
  {
   "cell_type": "code",
   "execution_count": 57,
   "id": "0045a6bf",
   "metadata": {},
   "outputs": [
    {
     "name": "stdout",
     "output_type": "stream",
     "text": [
      "enter first integer3\n",
      "enter second integer34\n",
      "34\n",
      "3\n"
     ]
    }
   ],
   "source": [
    "x = int(input('enter first integer'))\n",
    "y = int(input('enter second integer'))\n",
    "x = x + y\n",
    "y = x - y\n",
    "x = x - y\n",
    "print(x)\n",
    "print(y)"
   ]
  },
  {
   "cell_type": "code",
   "execution_count": 10,
   "id": "f1f26e53",
   "metadata": {},
   "outputs": [
    {
     "name": "stdout",
     "output_type": "stream",
     "text": [
      "enter the length of the rectangle -:4\n",
      "enter the width of the rectangle -:5\n",
      "Area of the rectangle is = 20.0\n"
     ]
    }
   ],
   "source": [
    "#length of a rectangle\n",
    "length = float(input('enter the length of the rectangle -:'))\n",
    "width = float(input('enter the width of the rectangle -:'))\n",
    "#Area of the rectangle\n",
    "area = length * width\n",
    "print('Area of the rectangle is =', area)"
   ]
  },
  {
   "cell_type": "code",
   "execution_count": 11,
   "id": "fd79ca34",
   "metadata": {},
   "outputs": [
    {
     "name": "stdout",
     "output_type": "stream",
     "text": [
      "temperature in celcius =23.98\n",
      "Temperature from celcius to fahrenheit =  75.164\n"
     ]
    }
   ],
   "source": [
    "#celcius to fahrenheit\n",
    "temp = float(input('temperature in celcius ='))\n",
    "fahrenheit = (temp * 9/5)+32\n",
    "print('Temperature from celcius to fahrenheit = ', fahrenheit )"
   ]
  },
  {
   "cell_type": "code",
   "execution_count": 12,
   "id": "bc89b8a0",
   "metadata": {},
   "outputs": [
    {
     "name": "stdout",
     "output_type": "stream",
     "text": [
      "enter your input:sdfghnhgfds\n",
      "11\n"
     ]
    }
   ],
   "source": [
    "string= str(input('enter your input:'))\n",
    "print(len(string))"
   ]
  },
  {
   "cell_type": "code",
   "execution_count": 36,
   "id": "480bfc3f",
   "metadata": {},
   "outputs": [
    {
     "name": "stdout",
     "output_type": "stream",
     "text": [
      "enter your sentence -:i love eating ice cream\n",
      "10\n"
     ]
    }
   ],
   "source": [
    "sentence = input('enter your sentence -:')\n",
    "vowels = 'a','e','i','o','u'\n",
    "count=0\n",
    "for x in sentence:\n",
    "    for y in vowels:\n",
    "        if (x==y):\n",
    "            count+=1\n",
    "print(count)\n"
   ]
  },
  {
   "cell_type": "code",
   "execution_count": 41,
   "id": "f8c9e52a",
   "metadata": {},
   "outputs": [
    {
     "name": "stdout",
     "output_type": "stream",
     "text": [
      "enter your string:anwesha\n",
      "ahsewna\n"
     ]
    }
   ],
   "source": [
    "string = str(input('enter your string:'))\n",
    "rev_string = 0\n",
    "rev_string = string[::-1]\n",
    "print(rev_string )"
   ]
  },
  {
   "cell_type": "code",
   "execution_count": 43,
   "id": "d80d2552",
   "metadata": {},
   "outputs": [
    {
     "name": "stdout",
     "output_type": "stream",
     "text": [
      "enter your string:ana\n",
      "ana\n",
      "string is palindrome\n"
     ]
    }
   ],
   "source": [
    "string = str(input('enter your string:'))\n",
    "rev_string = 0\n",
    "rev_string = string[::-1]\n",
    "print(rev_string )\n",
    "if string==rev_string:\n",
    "    print('string is palindrome')\n",
    "else:\n",
    "    print('Not palindrome')"
   ]
  },
  {
   "cell_type": "code",
   "execution_count": 51,
   "id": "3ee8e0c6",
   "metadata": {},
   "outputs": [
    {
     "name": "stdout",
     "output_type": "stream",
     "text": [
      "enter your string:yo yo baby\n",
      "yoyobaby\n"
     ]
    }
   ],
   "source": [
    "string=str(input('enter your string:'))\n",
    "rem_space=''\n",
    "new_string = string.replace(\" \",\"\")\n",
    "print(new_string )"
   ]
  },
  {
   "cell_type": "code",
   "execution_count": null,
   "id": "434fb072",
   "metadata": {},
   "outputs": [],
   "source": []
  }
 ],
 "metadata": {
  "kernelspec": {
   "display_name": "Python 3",
   "language": "python",
   "name": "python3"
  },
  "language_info": {
   "codemirror_mode": {
    "name": "ipython",
    "version": 3
   },
   "file_extension": ".py",
   "mimetype": "text/x-python",
   "name": "python",
   "nbconvert_exporter": "python",
   "pygments_lexer": "ipython3",
   "version": "3.8.8"
  }
 },
 "nbformat": 4,
 "nbformat_minor": 5
}
